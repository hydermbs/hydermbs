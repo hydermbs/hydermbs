{
  "nbformat": 4,
  "nbformat_minor": 0,
  "metadata": {
    "colab": {
      "name": "BMI Calulator.ipynb",
      "provenance": [],
      "authorship_tag": "ABX9TyPv5PDZc3B4T7ohRSoGHw+W",
      "include_colab_link": true
    },
    "kernelspec": {
      "name": "python3",
      "display_name": "Python 3"
    },
    "language_info": {
      "name": "python"
    }
  },
  "cells": [
    {
      "cell_type": "markdown",
      "metadata": {
        "id": "view-in-github",
        "colab_type": "text"
      },
      "source": [
        "<a href=\"https://colab.research.google.com/github/hydermbs/hydermbs/blob/main/BMI_Calulator.ipynb\" target=\"_parent\"><img src=\"https://colab.research.google.com/assets/colab-badge.svg\" alt=\"Open In Colab\"/></a>"
      ]
    },
    {
      "cell_type": "markdown",
      "source": [
        "**BMI Calculator KG**"
      ],
      "metadata": {
        "id": "BVCWqOTqxu4b"
      }
    },
    {
      "cell_type": "code",
      "execution_count": null,
      "metadata": {
        "colab": {
          "base_uri": "https://localhost:8080/"
        },
        "id": "vikHJ3VloFn_",
        "outputId": "55e2c724-10a4-442e-c39b-4b8dbe6178be"
      },
      "outputs": [
        {
          "output_type": "stream",
          "name": "stdout",
          "text": [
            "80.0\n",
            "3.6\n",
            "normal\n"
          ]
        }
      ],
      "source": [
        "Weight=float(input())\n",
        "Height=float(input())\n",
        "BMI=float(Weight/Height**2)\n",
        "if BMI>25:\n",
        "  print('Overweight')\n",
        "elif BMI<=25:\n",
        "  print('normal')\n",
        "elif BMI<12:\n",
        "  print('underweight')"
      ]
    },
    {
      "cell_type": "markdown",
      "source": [
        "***BMI Calculator Pound***"
      ],
      "metadata": {
        "id": "MA7GBinexnc7"
      }
    },
    {
      "cell_type": "code",
      "source": [
        "Weight=float(input())\n",
        "Height=float(input())\n",
        "BMI=float(703*Weight/Height**2)\n",
        "if BMI>25:\n",
        "  print('Overweight')\n",
        "elif BMI<=25:\n",
        "  print('normal')\n",
        "elif BMI<12:\n",
        "  print('underweight')"
      ],
      "metadata": {
        "colab": {
          "base_uri": "https://localhost:8080/"
        },
        "id": "xEqcneEymmjm",
        "outputId": "0b17327c-92a5-4ab6-be86-ac91914b7643"
      },
      "execution_count": null,
      "outputs": [
        {
          "output_type": "stream",
          "name": "stdout",
          "text": [
            "176.6\n",
            "70.0\n",
            "Overweight\n"
          ]
        }
      ]
    },
    {
      "cell_type": "markdown",
      "source": [
        "**BMI Calculator kg & pound optional**"
      ],
      "metadata": {
        "id": "Ihx6DP8NxgX0"
      }
    },
    {
      "cell_type": "code",
      "source": [
        "wf=input()\n",
        "weight=float(input())\n",
        "hf=input()\n",
        "height=float(input())\n",
        "if wf=='kg' and hf=='mtr':\n",
        "  BMI=float(weight/height**2)\n",
        "  print(BMI)\n",
        "elif wf=='pound' and hf=='inch':\n",
        "  BMI=float(703*weight/height**2)\n",
        "  print(BMI)\n",
        "else:\n",
        "  print('not applicaple')\n",
        "if BMI>25:\n",
        "  print('Overweight')\n",
        "elif BMI<=25:\n",
        "  print('normal')\n",
        "elif BMI<12:\n",
        "  print('underweight')\n",
        "elif BMI=='not applicable':\n",
        "  print('not applicable')\n",
        "  "
      ],
      "metadata": {
        "colab": {
          "base_uri": "https://localhost:8080/"
        },
        "id": "jcIjO2aEnBMn",
        "outputId": "8b56e3cf-be70-4baf-8283-9d6d5c2ead2c"
      },
      "execution_count": null,
      "outputs": [
        {
          "output_type": "stream",
          "name": "stdout",
          "text": [
            "gram\n",
            "693\n",
            "cm\n",
            "636\n",
            "not applicaple\n",
            "Overweight\n"
          ]
        }
      ]
    }
  ]
}